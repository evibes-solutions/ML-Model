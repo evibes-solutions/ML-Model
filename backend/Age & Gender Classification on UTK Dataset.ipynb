{
 "cells": [
  {
   "cell_type": "markdown",
   "id": "3311c3b2",
   "metadata": {},
   "source": [
    "# Age & Gender Classification on UTK Dataset\n"
   ]
  },
  {
   "cell_type": "markdown",
   "id": "fedc142e",
   "metadata": {},
   "source": [
    "The UTKFace dataset is a large-scale face dataset consisting of over 20,000 images. The images cover a wide range of ages and ethnicities and include both males and females.\n",
    "\n",
    "Using this dataset, I will be attempting to create a model capable of predicting the age and gender of an individual. I will be using part one of the cropped variations of the images, of which there are almost 10,000.\n",
    "\n",
    "This project constitutes as the partial fulfilment of my Fall Semester 2024 RA-ship under the supervision of Dr. Zubair Khalid, Associate Professor, Syed Babar Ali School of Science and Engineering at Lahore University of Management Sciences.\n"
   ]
  },
  {
   "cell_type": "markdown",
   "id": "decc25a4",
   "metadata": {},
   "source": [
    "## Table of Contents\n",
    "\n",
    "- Imports\n",
    "- Loading Data\n",
    "- Visualizing Data\n",
    "- Train Test Split\n",
    "- Building the Model\n",
    "- Training the Model\n",
    "- Evaluating the Model\n"
   ]
  },
  {
   "cell_type": "markdown",
   "id": "43099052",
   "metadata": {},
   "source": [
    "## 1. Imports\n"
   ]
  },
  {
   "cell_type": "code",
   "execution_count": null,
   "id": "8f89feaf",
   "metadata": {},
   "outputs": [
    {
     "ename": "",
     "evalue": "",
     "output_type": "error",
     "traceback": [
      "\u001b[1;31mThe kernel failed to start as the Python Environment 'evibes (Python -1.-1.-1)' is no longer available. Consider selecting another kernel or refreshing the list of Python Environments."
     ]
    }
   ],
   "source": [
    "import pandas as pd\n",
    "import numpy as np\n",
    "import seaborn as sns\n",
    "import matplotlib.pyplot as plt\n",
    "import os\n",
    "from PIL import Image, ImageOps\n",
    "from sklearn.model_selection import train_test_split\n",
    "\n",
    "from keras.models import Sequential\n",
    "from keras.layers import Conv2D, MaxPooling2D, Activation, Dropout, Flatten, Dense\n",
    "from keras import optimizers\n",
    "from tensorflow.keras.preprocessing.image import ImageDataGenerator\n",
    "import tensorflow as tf\n",
    "import warnings\n",
    "\n",
    "warnings.filterwarnings('ignore')"
   ]
  },
  {
   "cell_type": "code",
   "execution_count": null,
   "id": "dfd7ea05",
   "metadata": {},
   "outputs": [],
   "source": []
  },
  {
   "cell_type": "markdown",
   "id": "90cc01d8",
   "metadata": {},
   "source": [
    "## 2. Loading Dataset\n"
   ]
  },
  {
   "cell_type": "markdown",
   "id": "d445c20f",
   "metadata": {},
   "source": [
    "The `with` statement ensures each file is automatically closed after processing to conserve memory. This approach is useful for large datasets.\n"
   ]
  },
  {
   "cell_type": "code",
   "execution_count": 14,
   "id": "d026fd37",
   "metadata": {},
   "outputs": [
    {
     "ename": "FileNotFoundError",
     "evalue": "[WinError 3] The system cannot find the path specified: './Dataset/crop_part1/'",
     "output_type": "error",
     "traceback": [
      "\u001b[1;31m---------------------------------------------------------------------------\u001b[0m",
      "\u001b[1;31mFileNotFoundError\u001b[0m                         Traceback (most recent call last)",
      "Cell \u001b[1;32mIn[14], line 5\u001b[0m\n\u001b[0;32m      2\u001b[0m ages \u001b[38;5;241m=\u001b[39m []\n\u001b[0;32m      3\u001b[0m genders \u001b[38;5;241m=\u001b[39m []\n\u001b[1;32m----> 5\u001b[0m \u001b[38;5;28;01mfor\u001b[39;00m i \u001b[38;5;129;01min\u001b[39;00m \u001b[43mos\u001b[49m\u001b[38;5;241;43m.\u001b[39;49m\u001b[43mlistdir\u001b[49m\u001b[43m(\u001b[49m\u001b[38;5;124;43m'\u001b[39;49m\u001b[38;5;124;43m./Dataset/crop_part1/\u001b[39;49m\u001b[38;5;124;43m'\u001b[39;49m\u001b[43m)\u001b[49m:\n\u001b[0;32m      6\u001b[0m     split \u001b[38;5;241m=\u001b[39m i\u001b[38;5;241m.\u001b[39msplit(\u001b[38;5;124m'\u001b[39m\u001b[38;5;124m_\u001b[39m\u001b[38;5;124m'\u001b[39m)\n\u001b[0;32m      7\u001b[0m     ages\u001b[38;5;241m.\u001b[39mappend(\u001b[38;5;28mint\u001b[39m(split[\u001b[38;5;241m0\u001b[39m]))\n",
      "\u001b[1;31mFileNotFoundError\u001b[0m: [WinError 3] The system cannot find the path specified: './Dataset/crop_part1/'"
     ]
    }
   ],
   "source": [
    "images = []\n",
    "ages = []\n",
    "genders = []\n",
    "\n",
    "for i in os.listdir('./Dataset/crop_part1/'):\n",
    "    split = i.split('_')\n",
    "    ages.append(int(split[0]))\n",
    "    genders.append(int(split[1]))\n",
    "    \n",
    "    with Image.open('./Dataset/crop_part1/' + i) as img:\n",
    "        images.append(img.copy()) "
   ]
  },
  {
   "cell_type": "code",
   "execution_count": 15,
   "id": "191900e8",
   "metadata": {},
   "outputs": [
    {
     "data": {
      "text/html": [
       "<div>\n",
       "<style scoped>\n",
       "    .dataframe tbody tr th:only-of-type {\n",
       "        vertical-align: middle;\n",
       "    }\n",
       "\n",
       "    .dataframe tbody tr th {\n",
       "        vertical-align: top;\n",
       "    }\n",
       "\n",
       "    .dataframe thead th {\n",
       "        text-align: right;\n",
       "    }\n",
       "</style>\n",
       "<table border=\"1\" class=\"dataframe\">\n",
       "  <thead>\n",
       "    <tr style=\"text-align: right;\">\n",
       "      <th></th>\n",
       "      <th>Images</th>\n",
       "      <th>Ages</th>\n",
       "      <th>Genders</th>\n",
       "    </tr>\n",
       "  </thead>\n",
       "  <tbody>\n",
       "  </tbody>\n",
       "</table>\n",
       "</div>"
      ],
      "text/plain": [
       "Empty DataFrame\n",
       "Columns: [Images, Ages, Genders]\n",
       "Index: []"
      ]
     },
     "execution_count": 15,
     "metadata": {},
     "output_type": "execute_result"
    }
   ],
   "source": [
    "images = pd.Series(list(images), name = 'Images')\n",
    "ages = pd.Series(list(ages), name = 'Ages')\n",
    "genders = pd.Series(list(genders), name = 'Genders')\n",
    "\n",
    "df = pd.concat([images, ages, genders], axis=1)\n",
    "df"
   ]
  },
  {
   "cell_type": "code",
   "execution_count": 16,
   "id": "cccf6959",
   "metadata": {},
   "outputs": [
    {
     "ename": "KeyError",
     "evalue": "33",
     "output_type": "error",
     "traceback": [
      "\u001b[1;31m---------------------------------------------------------------------------\u001b[0m",
      "\u001b[1;31mValueError\u001b[0m                                Traceback (most recent call last)",
      "File \u001b[1;32md:\\Computer Engineering\\Evibes Development\\Github\\ML-Model\\backend\\tf_env\\Lib\\site-packages\\pandas\\core\\indexes\\range.py:413\u001b[0m, in \u001b[0;36mRangeIndex.get_loc\u001b[1;34m(self, key)\u001b[0m\n\u001b[0;32m    412\u001b[0m \u001b[38;5;28;01mtry\u001b[39;00m:\n\u001b[1;32m--> 413\u001b[0m     \u001b[38;5;28;01mreturn\u001b[39;00m \u001b[38;5;28;43mself\u001b[39;49m\u001b[38;5;241;43m.\u001b[39;49m\u001b[43m_range\u001b[49m\u001b[38;5;241;43m.\u001b[39;49m\u001b[43mindex\u001b[49m\u001b[43m(\u001b[49m\u001b[43mnew_key\u001b[49m\u001b[43m)\u001b[49m\n\u001b[0;32m    414\u001b[0m \u001b[38;5;28;01mexcept\u001b[39;00m \u001b[38;5;167;01mValueError\u001b[39;00m \u001b[38;5;28;01mas\u001b[39;00m err:\n",
      "\u001b[1;31mValueError\u001b[0m: 33 is not in range",
      "\nThe above exception was the direct cause of the following exception:\n",
      "\u001b[1;31mKeyError\u001b[0m                                  Traceback (most recent call last)",
      "Cell \u001b[1;32mIn[16], line 1\u001b[0m\n\u001b[1;32m----> 1\u001b[0m display(\u001b[43mdf\u001b[49m\u001b[43m[\u001b[49m\u001b[38;5;124;43m'\u001b[39;49m\u001b[38;5;124;43mImages\u001b[39;49m\u001b[38;5;124;43m'\u001b[39;49m\u001b[43m]\u001b[49m\u001b[43m[\u001b[49m\u001b[38;5;241;43m33\u001b[39;49m\u001b[43m]\u001b[49m)\n\u001b[0;32m      2\u001b[0m \u001b[38;5;28mprint\u001b[39m(df[\u001b[38;5;124m'\u001b[39m\u001b[38;5;124mAges\u001b[39m\u001b[38;5;124m'\u001b[39m][\u001b[38;5;241m33\u001b[39m], df[\u001b[38;5;124m'\u001b[39m\u001b[38;5;124mGenders\u001b[39m\u001b[38;5;124m'\u001b[39m][\u001b[38;5;241m33\u001b[39m])\n",
      "File \u001b[1;32md:\\Computer Engineering\\Evibes Development\\Github\\ML-Model\\backend\\tf_env\\Lib\\site-packages\\pandas\\core\\series.py:1121\u001b[0m, in \u001b[0;36mSeries.__getitem__\u001b[1;34m(self, key)\u001b[0m\n\u001b[0;32m   1118\u001b[0m     \u001b[38;5;28;01mreturn\u001b[39;00m \u001b[38;5;28mself\u001b[39m\u001b[38;5;241m.\u001b[39m_values[key]\n\u001b[0;32m   1120\u001b[0m \u001b[38;5;28;01melif\u001b[39;00m key_is_scalar:\n\u001b[1;32m-> 1121\u001b[0m     \u001b[38;5;28;01mreturn\u001b[39;00m \u001b[38;5;28;43mself\u001b[39;49m\u001b[38;5;241;43m.\u001b[39;49m\u001b[43m_get_value\u001b[49m\u001b[43m(\u001b[49m\u001b[43mkey\u001b[49m\u001b[43m)\u001b[49m\n\u001b[0;32m   1123\u001b[0m \u001b[38;5;66;03m# Convert generator to list before going through hashable part\u001b[39;00m\n\u001b[0;32m   1124\u001b[0m \u001b[38;5;66;03m# (We will iterate through the generator there to check for slices)\u001b[39;00m\n\u001b[0;32m   1125\u001b[0m \u001b[38;5;28;01mif\u001b[39;00m is_iterator(key):\n",
      "File \u001b[1;32md:\\Computer Engineering\\Evibes Development\\Github\\ML-Model\\backend\\tf_env\\Lib\\site-packages\\pandas\\core\\series.py:1237\u001b[0m, in \u001b[0;36mSeries._get_value\u001b[1;34m(self, label, takeable)\u001b[0m\n\u001b[0;32m   1234\u001b[0m     \u001b[38;5;28;01mreturn\u001b[39;00m \u001b[38;5;28mself\u001b[39m\u001b[38;5;241m.\u001b[39m_values[label]\n\u001b[0;32m   1236\u001b[0m \u001b[38;5;66;03m# Similar to Index.get_value, but we do not fall back to positional\u001b[39;00m\n\u001b[1;32m-> 1237\u001b[0m loc \u001b[38;5;241m=\u001b[39m \u001b[38;5;28;43mself\u001b[39;49m\u001b[38;5;241;43m.\u001b[39;49m\u001b[43mindex\u001b[49m\u001b[38;5;241;43m.\u001b[39;49m\u001b[43mget_loc\u001b[49m\u001b[43m(\u001b[49m\u001b[43mlabel\u001b[49m\u001b[43m)\u001b[49m\n\u001b[0;32m   1239\u001b[0m \u001b[38;5;28;01mif\u001b[39;00m is_integer(loc):\n\u001b[0;32m   1240\u001b[0m     \u001b[38;5;28;01mreturn\u001b[39;00m \u001b[38;5;28mself\u001b[39m\u001b[38;5;241m.\u001b[39m_values[loc]\n",
      "File \u001b[1;32md:\\Computer Engineering\\Evibes Development\\Github\\ML-Model\\backend\\tf_env\\Lib\\site-packages\\pandas\\core\\indexes\\range.py:415\u001b[0m, in \u001b[0;36mRangeIndex.get_loc\u001b[1;34m(self, key)\u001b[0m\n\u001b[0;32m    413\u001b[0m         \u001b[38;5;28;01mreturn\u001b[39;00m \u001b[38;5;28mself\u001b[39m\u001b[38;5;241m.\u001b[39m_range\u001b[38;5;241m.\u001b[39mindex(new_key)\n\u001b[0;32m    414\u001b[0m     \u001b[38;5;28;01mexcept\u001b[39;00m \u001b[38;5;167;01mValueError\u001b[39;00m \u001b[38;5;28;01mas\u001b[39;00m err:\n\u001b[1;32m--> 415\u001b[0m         \u001b[38;5;28;01mraise\u001b[39;00m \u001b[38;5;167;01mKeyError\u001b[39;00m(key) \u001b[38;5;28;01mfrom\u001b[39;00m\u001b[38;5;250m \u001b[39m\u001b[38;5;21;01merr\u001b[39;00m\n\u001b[0;32m    416\u001b[0m \u001b[38;5;28;01mif\u001b[39;00m \u001b[38;5;28misinstance\u001b[39m(key, Hashable):\n\u001b[0;32m    417\u001b[0m     \u001b[38;5;28;01mraise\u001b[39;00m \u001b[38;5;167;01mKeyError\u001b[39;00m(key)\n",
      "\u001b[1;31mKeyError\u001b[0m: 33"
     ]
    }
   ],
   "source": [
    "display(df['Images'][33])\n",
    "print(df['Ages'][33], df['Genders'][33])"
   ]
  },
  {
   "cell_type": "code",
   "execution_count": null,
   "id": "de324cab",
   "metadata": {},
   "outputs": [],
   "source": [
    "display(df['Images'][100])\n",
    "print(df['Ages'][100], df['Genders'][100])"
   ]
  },
  {
   "cell_type": "markdown",
   "id": "90c4178a",
   "metadata": {},
   "source": [
    "So `0` corresponds to male and `1` corresponds to female.\n"
   ]
  },
  {
   "cell_type": "markdown",
   "id": "a8484cad",
   "metadata": {},
   "source": [
    "## 3. Visualizing Data\n"
   ]
  },
  {
   "cell_type": "code",
   "execution_count": null,
   "id": "0f772c9f",
   "metadata": {},
   "outputs": [],
   "source": [
    "df['Genders'].unique()"
   ]
  },
  {
   "cell_type": "markdown",
   "id": "746c85cd",
   "metadata": {},
   "source": [
    "To be on the safer side, I am going to remove any rows where gender equals 3.\n"
   ]
  },
  {
   "cell_type": "code",
   "execution_count": null,
   "id": "1a290e29",
   "metadata": {},
   "outputs": [],
   "source": [
    "df = df[df['Genders'] != 3]\n",
    "\n",
    "# Plot Gender Distribution\n",
    "plt.figure(figsize=(8, 6))\n",
    "sns.countplot(x='Genders', data=df, palette='coolwarm')\n",
    "plt.title('Gender Distribution', fontsize=16)\n",
    "plt.xlabel('Gender (0 = Male, 1 = Female)', fontsize=12)\n",
    "plt.ylabel('Count', fontsize=12)\n",
    "plt.xticks(ticks=[0, 1], labels=['Male', 'Female'])\n",
    "plt.show()"
   ]
  },
  {
   "cell_type": "code",
   "execution_count": null,
   "id": "8ee5cf04",
   "metadata": {},
   "outputs": [],
   "source": [
    "import plotly.express as px\n",
    "\n",
    "# Plot Age Distribution\n",
    "fig = px.histogram(df, x='Ages', nbins=30, title=\"Age Distribution\", \n",
    "                   labels={'Age': 'Age'}, \n",
    "                   color_discrete_sequence=['skyblue'])\n",
    "\n",
    "# Customize the plot layout\n",
    "fig.update_layout(\n",
    "    xaxis_title=\"Age\",\n",
    "    yaxis_title=\"Frequency\",\n",
    "    bargap=0.1  # Add a little space between bars\n",
    ")\n",
    "\n",
    "fig.show()"
   ]
  },
  {
   "cell_type": "markdown",
   "id": "7a47c7f3",
   "metadata": {},
   "source": [
    "As depicted in the plot, there are too many images between the ages of 0-4. The model would fit too well to these ages and not well enough to others. To resolve this, I will include 1/3 of the images between these ages.\n",
    "\n",
    "It is also best to remove images over 90, since there aren't many such images, and only have the model predict the ages of people under 90.\n"
   ]
  },
  {
   "cell_type": "code",
   "execution_count": null,
   "id": "3dc0789a",
   "metadata": {},
   "outputs": [],
   "source": [
    "under4s = []\n",
    "\n",
    "for i in range(len(df)):\n",
    "    if df['Ages'].iloc[i] <= 4:\n",
    "        under4s.append(df.iloc[i])\n",
    "under4s = pd.DataFrame(under4s)\n",
    "under4s = under4s.sample(frac=0.3)\n",
    "\n",
    "df = df[df['Ages'] > 4]\n",
    "\n",
    "df = pd.concat([df, under4s], ignore_index = True)\n",
    "df = df[df['Ages'] < 90]"
   ]
  },
  {
   "cell_type": "code",
   "execution_count": null,
   "id": "70cd479a",
   "metadata": {},
   "outputs": [],
   "source": [
    "# Plot Age Distribution\n",
    "fig = px.histogram(df, x='Ages', nbins=30, title=\"Age Distribution\", \n",
    "                   labels={'Age': 'Age'}, \n",
    "                   color_discrete_sequence=['skyblue'])\n",
    "\n",
    "# Customize the plot layout\n",
    "fig.update_layout(\n",
    "    xaxis_title=\"Age\",\n",
    "    yaxis_title=\"Frequency\",\n",
    "    bargap=0.1  # Add a little space between bars\n",
    ")\n",
    "\n",
    "fig.show()"
   ]
  },
  {
   "cell_type": "markdown",
   "id": "574fb510",
   "metadata": {},
   "source": [
    "## 4. Train Test Split\n"
   ]
  },
  {
   "cell_type": "code",
   "execution_count": null,
   "id": "5e766ce2",
   "metadata": {},
   "outputs": [],
   "source": [
    "# Preparing Data\n",
    "x = []\n",
    "y = []\n",
    "\n",
    "for i in range(len(df)):\n",
    "    df['Images'].iloc[i] = df['Images'].iloc[i].resize((200,200), Image.ANTIALIAS)\n",
    "    ar = np.asarray(df['Images'].iloc[i])\n",
    "    x.append(ar)\n",
    "    agegen = [int(df['Ages'].iloc[i]), int(df['Genders'].iloc[i])]\n",
    "    y.append(agegen)\n",
    "x = np.array(x)"
   ]
  },
  {
   "cell_type": "code",
   "execution_count": null,
   "id": "0f7c85f1",
   "metadata": {},
   "outputs": [],
   "source": [
    "y_age = df['Ages']\n",
    "y_gender = df['Genders']\n",
    "\n",
    "x_train_age, x_test_age, y_train_age, y_test_age = train_test_split(x, y_age, test_size=0.2, stratify=y_age)\n",
    "x_train_gender, x_test_gender, y_train_gender, y_test_gender = train_test_split(x, y_gender, test_size=0.2, stratify=y_gender)"
   ]
  },
  {
   "cell_type": "markdown",
   "id": "31211cf9",
   "metadata": {},
   "source": [
    "## 5. Building the Model\n"
   ]
  },
  {
   "cell_type": "markdown",
   "id": "e53955e3",
   "metadata": {},
   "source": [
    "I will build two models - an age model to predict continuous values which will be rounded to the nearest integer, and the gender model returning a binary classification label.\n"
   ]
  },
  {
   "cell_type": "code",
   "execution_count": null,
   "id": "3ed44425",
   "metadata": {},
   "outputs": [],
   "source": [
    "agemodel = Sequential()\n",
    "agemodel.add(Conv2D(32, (3,3), activation='relu', input_shape=(200, 200, 3)))\n",
    "agemodel.add(MaxPooling2D((2,2)))\n",
    "agemodel.add(Conv2D(64, (3,3), activation='relu'))\n",
    "agemodel.add(MaxPooling2D((2,2)))\n",
    "agemodel.add(Conv2D(128, (3,3), activation='relu'))\n",
    "agemodel.add(MaxPooling2D((2,2)))\n",
    "agemodel.add(Flatten())\n",
    "agemodel.add(Dense(64, activation='relu'))\n",
    "agemodel.add(Dropout(0.5))\n",
    "agemodel.add(Dense(1, activation='relu'))\n",
    "\n",
    "agemodel.compile(loss='mean_squared_error',\n",
    "             optimizer=optimizers.Adam(lr=0.0001))\n",
    "\n",
    "genmodel = Sequential()\n",
    "genmodel.add(Conv2D(32, (3,3), activation='relu', input_shape=(200, 200, 3)))\n",
    "genmodel.add(MaxPooling2D((2,2)))\n",
    "genmodel.add(Conv2D(64, (3,3), activation='relu'))\n",
    "genmodel.add(MaxPooling2D((2,2)))\n",
    "genmodel.add(Conv2D(128, (3,3), activation='relu'))\n",
    "genmodel.add(MaxPooling2D((2,2)))\n",
    "genmodel.add(Flatten())\n",
    "genmodel.add(Dense(64, activation='relu'))\n",
    "genmodel.add(Dropout(0.5))\n",
    "genmodel.add(Dense(1, activation='sigmoid'))\n",
    "\n",
    "genmodel.compile(loss='binary_crossentropy',\n",
    "             optimizer=optimizers.Adam(lr=0.0001),\n",
    "             metrics=['accuracy'])"
   ]
  },
  {
   "cell_type": "markdown",
   "id": "7ae4d5fb",
   "metadata": {},
   "source": [
    "## 6. Training the Model\n"
   ]
  },
  {
   "cell_type": "code",
   "execution_count": null,
   "id": "899e9893",
   "metadata": {},
   "outputs": [],
   "source": [
    "datagen = ImageDataGenerator(\n",
    "      rescale=1./255., width_shift_range = 0.1, height_shift_range = 0.1, horizontal_flip = True)\n",
    "\n",
    "test_datagen = ImageDataGenerator(rescale=1./255)\n",
    "\n",
    "train1 = datagen.flow(x_train_age, y_train_age, batch_size=32)\n",
    "\n",
    "test1 = test_datagen.flow(\n",
    "        x_test_age, y_test_age,\n",
    "        batch_size=32)\n",
    "\n",
    "history1 = agemodel.fit(train1, epochs=50, shuffle=True, validation_data=test1)"
   ]
  },
  {
   "cell_type": "code",
   "execution_count": null,
   "id": "12305df3",
   "metadata": {},
   "outputs": [],
   "source": [
    "datagen = ImageDataGenerator(\n",
    "      rescale=1./255., width_shift_range = 0.1, height_shift_range = 0.1, horizontal_flip = True)\n",
    "\n",
    "test_datagen = ImageDataGenerator(rescale=1./255)\n",
    "\n",
    "train2 = datagen.flow(x_train_gender, y_train_gender, batch_size=64)\n",
    "\n",
    "test2 = test_datagen.flow(\n",
    "        x_test_gender, y_test_gender,\n",
    "        batch_size=64)\n",
    "\n",
    "history2 = genmodel.fit(train2, epochs=50, shuffle=True, validation_data=test2)"
   ]
  },
  {
   "cell_type": "markdown",
   "id": "dc81dcb3",
   "metadata": {},
   "source": [
    "## Evaluating the Model\n"
   ]
  },
  {
   "cell_type": "markdown",
   "id": "c645c065",
   "metadata": {},
   "source": [
    "Age Prediction Model (agemodel): Since this is a regression task, we will use metrics like Mean Absolute Error (MAE), Mean Squared Error (MSE), and R-squared (coefficient of determination).\n"
   ]
  },
  {
   "cell_type": "code",
   "execution_count": 17,
   "id": "78230ace",
   "metadata": {},
   "outputs": [
    {
     "ename": "NameError",
     "evalue": "name 'x_test_age' is not defined",
     "output_type": "error",
     "traceback": [
      "\u001b[1;31m---------------------------------------------------------------------------\u001b[0m",
      "\u001b[1;31mNameError\u001b[0m                                 Traceback (most recent call last)",
      "Cell \u001b[1;32mIn[17], line 6\u001b[0m\n\u001b[0;32m      3\u001b[0m \u001b[38;5;28;01mimport\u001b[39;00m\u001b[38;5;250m \u001b[39m\u001b[38;5;21;01mnumpy\u001b[39;00m\u001b[38;5;250m \u001b[39m\u001b[38;5;28;01mas\u001b[39;00m\u001b[38;5;250m \u001b[39m\u001b[38;5;21;01mnp\u001b[39;00m\n\u001b[0;32m      5\u001b[0m \u001b[38;5;66;03m# Rescale test data for evaluation\u001b[39;00m\n\u001b[1;32m----> 6\u001b[0m x_test_age_rescaled \u001b[38;5;241m=\u001b[39m \u001b[43mx_test_age\u001b[49m \u001b[38;5;241m/\u001b[39m \u001b[38;5;241m255.0\u001b[39m\n\u001b[0;32m      7\u001b[0m x_test_gender_rescaled \u001b[38;5;241m=\u001b[39m x_test_gender \u001b[38;5;241m/\u001b[39m \u001b[38;5;241m255.0\u001b[39m\n\u001b[0;32m      9\u001b[0m \u001b[38;5;66;03m# Evaluate Age Prediction Model (Regression)\u001b[39;00m\n",
      "\u001b[1;31mNameError\u001b[0m: name 'x_test_age' is not defined"
     ]
    }
   ],
   "source": [
    "from sklearn.metrics import mean_absolute_error, mean_squared_error, r2_score\n",
    "from sklearn.metrics import accuracy_score, precision_score, recall_score, f1_score, roc_auc_score, confusion_matrix\n",
    "import numpy as np\n",
    "\n",
    "# Rescale test data for evaluation\n",
    "x_test_age_rescaled = x_test_age / 255.0\n",
    "x_test_gender_rescaled = x_test_gender / 255.0\n",
    "\n",
    "# Evaluate Age Prediction Model (Regression)\n",
    "y_pred_age = agemodel.predict(x_test_age_rescaled)\n",
    "mae = mean_absolute_error(y_test_age, y_pred_age)\n",
    "mse = mean_squared_error(y_test_age, y_pred_age)\n",
    "r2 = r2_score(y_test_age, y_pred_age)\n",
    "\n",
    "print(\"Age Prediction Model Evaluation:\")\n",
    "print(f\"Mean Absolute Error (MAE): {mae}\")\n",
    "print(f\"Mean Squared Error (MSE): {mse}\")\n",
    "print(f\"R-squared (R2): {r2}\\n\")"
   ]
  },
  {
   "cell_type": "markdown",
   "id": "409b0b5f",
   "metadata": {},
   "source": [
    "Gender Prediction Model (genmodel): Since this is a binary classification task, we will use metrics like Accuracy, Precision, Recall, F1-score, and AUC-ROC.\n"
   ]
  },
  {
   "cell_type": "code",
   "execution_count": null,
   "id": "940257d0",
   "metadata": {},
   "outputs": [],
   "source": [
    "# Evaluate Gender Prediction Model (Binary Classification)\n",
    "y_pred_gender = genmodel.predict(x_test_gender_rescaled)\n",
    "y_pred_gender_binary = (y_pred_gender > 0.5).astype(int)  # Convert probabilities to binary predictions\n",
    "\n",
    "accuracy = accuracy_score(y_test_gender, y_pred_gender_binary)\n",
    "precision = precision_score(y_test_gender, y_pred_gender_binary)\n",
    "recall = recall_score(y_test_gender, y_pred_gender_binary)\n",
    "f1 = f1_score(y_test_gender, y_pred_gender_binary)\n",
    "roc_auc = roc_auc_score(y_test_gender, y_pred_gender)\n",
    "conf_matrix = confusion_matrix(y_test_gender, y_pred_gender_binary)\n",
    "\n",
    "print(\"Gender Prediction Model Evaluation:\")\n",
    "print(f\"Accuracy: {accuracy}\")\n",
    "print(f\"Precision: {precision}\")\n",
    "print(f\"Recall: {recall}\")\n",
    "print(f\"F1-score: {f1}\")\n",
    "print(f\"AUC-ROC: {roc_auc}\")\n",
    "print(\"Confusion Matrix:\")\n",
    "print(conf_matrix)"
   ]
  },
  {
   "cell_type": "markdown",
   "id": "61440951",
   "metadata": {},
   "source": [
    "Now testing the models on images of celebrities, they have never seen before:\n"
   ]
  },
  {
   "cell_type": "code",
   "execution_count": null,
   "id": "89f2ff67",
   "metadata": {},
   "outputs": [],
   "source": [
    "def process_and_predict(file):\n",
    "    im = Image.open(file)\n",
    "    width, height = im.size\n",
    "    if width == height:\n",
    "        im = im.resize((200,200), Image.ANTIALIAS)\n",
    "    else:\n",
    "        if width > height:\n",
    "            left = width/2 - height/2\n",
    "            right = width/2 + height/2\n",
    "            top = 0\n",
    "            bottom = height\n",
    "            im = im.crop((left,top,right,bottom))\n",
    "            im = im.resize((200,200), Image.ANTIALIAS)\n",
    "        else:\n",
    "            left = 0\n",
    "            right = width\n",
    "            top = 0\n",
    "            bottom = width\n",
    "            im = im.crop((left,top,right,bottom))\n",
    "            im = im.resize((200,200), Image.ANTIALIAS)  \n",
    "    ar = np.asarray(im)\n",
    "    ar = ar.astype('float32')\n",
    "    ar /= 255.0\n",
    "    ar = ar.reshape(-1, 200, 200, 3)\n",
    "    age = agemodel.predict(ar)\n",
    "    gender = np.round(genmodel.predict(ar))\n",
    "    if gender == 0:\n",
    "        gender = 'male'\n",
    "    elif gender == 1:\n",
    "        gender = 'female'\n",
    "    print('Age:', int(age), '\\n Gender:', gender)\n",
    "    return im.resize((300,300), Image.ANTIALIAS)"
   ]
  },
  {
   "cell_type": "code",
   "execution_count": null,
   "id": "d65ae69f",
   "metadata": {},
   "outputs": [],
   "source": [
    "process_and_predict('./testpictures/11.jpg')"
   ]
  },
  {
   "cell_type": "code",
   "execution_count": null,
   "id": "9a214b24",
   "metadata": {},
   "outputs": [],
   "source": [
    "process_and_predict('./testpictures/12.jpg')"
   ]
  },
  {
   "cell_type": "code",
   "execution_count": null,
   "id": "cecd2907",
   "metadata": {},
   "outputs": [],
   "source": [
    "process_and_predict('./testpictures/14.jpg')"
   ]
  },
  {
   "cell_type": "code",
   "execution_count": null,
   "id": "fbacd284",
   "metadata": {},
   "outputs": [],
   "source": [
    "process_and_predict('./testpictures/15.jpg')"
   ]
  },
  {
   "cell_type": "code",
   "execution_count": null,
   "id": "c6de5df9",
   "metadata": {},
   "outputs": [],
   "source": [
    "process_and_predict('./testpictures/19.jpg')"
   ]
  },
  {
   "cell_type": "code",
   "execution_count": null,
   "id": "a129de45",
   "metadata": {},
   "outputs": [],
   "source": [
    "process_and_predict('./testpictures/20.jpg')"
   ]
  },
  {
   "cell_type": "code",
   "execution_count": null,
   "id": "743589ab",
   "metadata": {},
   "outputs": [],
   "source": [
    "process_and_predict('./testpictures/16.jpg')"
   ]
  },
  {
   "cell_type": "code",
   "execution_count": null,
   "id": "6b4e4dda",
   "metadata": {},
   "outputs": [],
   "source": [
    "process_and_predict('./testpictures/13.jpg')"
   ]
  },
  {
   "cell_type": "code",
   "execution_count": null,
   "id": "716eee1f",
   "metadata": {},
   "outputs": [],
   "source": [
    "process_and_predict('./testpictures/17.jpg')"
   ]
  },
  {
   "cell_type": "markdown",
   "id": "6fd2537e",
   "metadata": {},
   "source": [
    "## Saving the Models\n"
   ]
  },
  {
   "cell_type": "code",
   "execution_count": null,
   "id": "f7d72804",
   "metadata": {},
   "outputs": [],
   "source": [
    "# Save the Age Prediction Model\n",
    "agemodel.save('age_prediction_model.h5')\n",
    "\n",
    "# Save the Gender Prediction Model\n",
    "genmodel.save('gender_prediction_model.h5')"
   ]
  }
 ],
 "metadata": {
  "kernelspec": {
   "display_name": "evibes",
   "language": "python",
   "name": "python3"
  },
  "language_info": {
   "codemirror_mode": {
    "name": "ipython",
    "version": 3
   },
   "file_extension": ".py",
   "mimetype": "text/x-python",
   "name": "python",
   "nbconvert_exporter": "python",
   "pygments_lexer": "ipython3",
   "version": "3.11.0"
  }
 },
 "nbformat": 4,
 "nbformat_minor": 5
}
